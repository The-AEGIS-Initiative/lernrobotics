{
 "cells": [
  {
   "cell_type": "code",
   "execution_count": 4,
   "metadata": {
    "ExecuteTime": {
     "end_time": "2020-08-04T19:56:05.032410Z",
     "start_time": "2020-08-04T19:56:05.029482Z"
    }
   },
   "outputs": [],
   "source": [
    "import os\n",
    "import re"
   ]
  },
  {
   "cell_type": "code",
   "execution_count": 7,
   "metadata": {
    "ExecuteTime": {
     "end_time": "2020-08-04T19:56:31.680695Z",
     "start_time": "2020-08-04T19:56:31.673862Z"
    }
   },
   "outputs": [
    {
     "name": "stdout",
     "output_type": "stream",
     "text": [
      "GamePage\n",
      "DashboardPage\n",
      "LevelBuilderPage\n",
      "StartPage\n",
      "HomePage\n",
      "AdminLevelPage\n",
      "AdminPage\n",
      "UnauthorizedPage\n",
      "DocumentEditorPage\n",
      "LoginPage\n"
     ]
    }
   ],
   "source": [
    "# Create folders for all js files\n",
    "for name in set([file.split(\".\")[0] for file in os.listdir()]):\n",
    "    if(name != '' and name != 'file_reorganizer'):\n",
    "        print(name)\n",
    "        os.mkdir(name)"
   ]
  },
  {
   "cell_type": "code",
   "execution_count": 9,
   "metadata": {
    "ExecuteTime": {
     "end_time": "2020-08-04T19:56:57.029836Z",
     "start_time": "2020-08-04T19:56:57.005414Z"
    }
   },
   "outputs": [
    {
     "name": "stdout",
     "output_type": "stream",
     "text": [
      "AdminLevelPage.js AdminLevelPage/AdminLevelPage.js\n",
      "AdminPage.js AdminPage/AdminPage.js\n",
      "DashboardPage.css DashboardPage/DashboardPage.css\n",
      "DashboardPage.js DashboardPage/DashboardPage.js\n",
      "DocumentEditorPage.js DocumentEditorPage/DocumentEditorPage.js\n",
      "GamePage.css GamePage/GamePage.css\n",
      "GamePage.js GamePage/GamePage.js\n",
      "HomePage.css HomePage/HomePage.css\n",
      "HomePage.js HomePage/HomePage.js\n",
      "LevelBuilderPage.css LevelBuilderPage/LevelBuilderPage.css\n",
      "LevelBuilderPage.js LevelBuilderPage/LevelBuilderPage.js\n",
      "LoginPage.js LoginPage/LoginPage.js\n",
      "StartPage.css StartPage/StartPage.css\n",
      "StartPage.js StartPage/StartPage.js\n",
      "UnauthorizedPage.js UnauthorizedPage/UnauthorizedPage.js\n"
     ]
    }
   ],
   "source": [
    "# Move all files\n",
    "for file in os.listdir():\n",
    "    if(re.search(\".js\", file) or re.search(\".css\", file)):\n",
    "        print(file,file.split(\".\")[0]+\"/\"+file)\n",
    "        os.rename(file,file.split(\".\")[0]+\"/\"+file)"
   ]
  },
  {
   "cell_type": "code",
   "execution_count": 11,
   "metadata": {
    "ExecuteTime": {
     "end_time": "2020-08-04T19:57:40.777573Z",
     "start_time": "2020-08-04T19:57:40.764884Z"
    }
   },
   "outputs": [
    {
     "name": "stdout",
     "output_type": "stream",
     "text": [
      "AdminLevelPage/AdminLevelPage.js AdminLevelPage/index.js\n",
      "AdminPage/AdminPage.js AdminPage/index.js\n",
      "DashboardPage/DashboardPage.css DashboardPage/index.css\n",
      "DashboardPage/DashboardPage.js DashboardPage/index.js\n",
      "DocumentEditorPage/DocumentEditorPage.js DocumentEditorPage/index.js\n",
      "GamePage/GamePage.css GamePage/index.css\n",
      "GamePage/GamePage.js GamePage/index.js\n",
      "HomePage/HomePage.css HomePage/index.css\n",
      "HomePage/HomePage.js HomePage/index.js\n",
      "LevelBuilderPage/LevelBuilderPage.css LevelBuilderPage/index.css\n",
      "LevelBuilderPage/LevelBuilderPage.js LevelBuilderPage/index.js\n",
      "LoginPage/LoginPage.js LoginPage/index.js\n",
      "StartPage/StartPage.css StartPage/index.css\n",
      "StartPage/StartPage.js StartPage/index.js\n",
      "UnauthorizedPage/UnauthorizedPage.js UnauthorizedPage/index.js\n"
     ]
    }
   ],
   "source": [
    "# Rename all files\n",
    "for folder in os.listdir():\n",
    "    if folder != \"file_reorganizer.ipynb\":\n",
    "        for file in os.listdir(folder):\n",
    "            if(folder != \".ipynb_checkpoints\" and folder != \"file_reorganizer.ipynb\"):\n",
    "                print(folder+\"/\"+file, folder+\"/index.\"+file.split(\".\")[1])\n",
    "                os.rename(folder+\"/\"+file, folder+\"/index.\"+file.split(\".\")[1])\n",
    "        "
   ]
  },
  {
   "cell_type": "code",
   "execution_count": null,
   "metadata": {},
   "outputs": [],
   "source": []
  }
 ],
 "metadata": {
  "kernelspec": {
   "display_name": "Python 3",
   "language": "python",
   "name": "python3"
  },
  "language_info": {
   "codemirror_mode": {
    "name": "ipython",
    "version": 3
   },
   "file_extension": ".py",
   "mimetype": "text/x-python",
   "name": "python",
   "nbconvert_exporter": "python",
   "pygments_lexer": "ipython3",
   "version": "3.7.1"
  },
  "toc": {
   "base_numbering": 1,
   "nav_menu": {},
   "number_sections": true,
   "sideBar": true,
   "skip_h1_title": false,
   "title_cell": "Table of Contents",
   "title_sidebar": "Contents",
   "toc_cell": false,
   "toc_position": {},
   "toc_section_display": true,
   "toc_window_display": false
  }
 },
 "nbformat": 4,
 "nbformat_minor": 2
}
